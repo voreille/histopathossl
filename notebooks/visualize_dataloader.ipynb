{
 "cells": [
  {
   "cell_type": "code",
   "execution_count": null,
   "metadata": {},
   "outputs": [],
   "source": [
    "import torch\n",
    "import matplotlib.pyplot as plt\n",
    "from torchvision import transforms\n",
    "from torch.utils.data import DataLoader\n",
    "\n",
    "from histopathossl.training.dataset import SuperpixelMoCoDatasetDebug"
   ]
  },
  {
   "cell_type": "code",
   "execution_count": 2,
   "metadata": {},
   "outputs": [],
   "source": [
    "# Load the dataset\n",
    "mapping_file = \"/home/valentin/workspaces/histolung/data/interim/tiles_superpixels/training_superpixel_tile_map.json\"\n",
    "dataset = SuperpixelMoCoDatasetDebug(mapping_file,\n",
    "                                     num_tiles=2,\n",
    "                                     transform=transforms.ToTensor())\n",
    "\n",
    "# DataLoader for batch visualization\n",
    "batch_size = 16  # Adjust based on how many pairs you want to see\n",
    "dataloader = DataLoader(dataset, batch_size=batch_size, shuffle=True)"
   ]
  },
  {
   "cell_type": "code",
   "execution_count": null,
   "metadata": {},
   "outputs": [],
   "source": [
    "# Get a batch from the dataloader\n",
    "batch, tile_ids, nb_tiles = next(iter(\n",
    "    dataloader))  # batch is a list of lists: [[img1, img2, ..., imgN], ...]\n",
    "\n",
    "\n",
    "# Convert tensors to images\n",
    "def tensor_to_image(tensor):\n",
    "    return tensor.permute(1, 2, 0).numpy()  # Convert (C, H, W) -> (H, W, C)\n",
    "\n",
    "\n",
    "# Create the figure with correct dimensions\n",
    "fig, axes = plt.subplots(nrows=batch_size,\n",
    "                         ncols=dataset.num_tiles,\n",
    "                         figsize=(dataset.num_tiles * 3, batch_size * 3))\n",
    "\n",
    "# Iterate over batch\n",
    "for i, tile_set in enumerate(\n",
    "        batch):  # loop over the tiles from the same superpixel\n",
    "    for j, img in enumerate(tile_set):  # Iterate over superpixels\n",
    "        img = tensor_to_image(img)  # Convert to numpy\n",
    "        axes[j, i].imshow(img)\n",
    "        # axes[j, i].set_title(f\"Superpixel {j+1}, tiles {i+1}\")\n",
    "        axes[j, i].set_title(f\"{str(tile_ids[i][j]).split('__')[-1]}/{nb_tiles[j]}\")\n",
    "        axes[j, i].axis(\"off\")\n",
    "\n",
    "plt.tight_layout()\n",
    "plt.show()\n"
   ]
  },
  {
   "cell_type": "code",
   "execution_count": null,
   "metadata": {},
   "outputs": [],
   "source": []
  }
 ],
 "metadata": {
  "kernelspec": {
   "display_name": "histolung",
   "language": "python",
   "name": "python3"
  },
  "language_info": {
   "codemirror_mode": {
    "name": "ipython",
    "version": 3
   },
   "file_extension": ".py",
   "mimetype": "text/x-python",
   "name": "python",
   "nbconvert_exporter": "python",
   "pygments_lexer": "ipython3",
   "version": "3.11.0"
  }
 },
 "nbformat": 4,
 "nbformat_minor": 2
}
