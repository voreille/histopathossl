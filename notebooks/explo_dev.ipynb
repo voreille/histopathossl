{
 "cells": [
  {
   "cell_type": "code",
   "execution_count": 1,
   "metadata": {},
   "outputs": [],
   "source": [
    "import os\n",
    "from pathlib import Path\n",
    "import random\n",
    "import shutil\n",
    "\n",
    "from dotenv import load_dotenv\n",
    "import openslide\n",
    "from tqdm import tqdm"
   ]
  },
  {
   "cell_type": "code",
   "execution_count": 2,
   "metadata": {},
   "outputs": [],
   "source": [
    "load_dotenv()\n",
    "# cptac_path = Path(os.getenv('CPTAC_DATA_RAW_PATH'))\n",
    "tcga_path = Path(os.getenv('TCGA_DATA_RAW_PATH'))\n",
    "output_folder = Path(\n",
    "    \"/home/valentin/workspaces/histopathossl/data/raw/tcga_subset/\")\n",
    "output_folder.mkdir(parents=True, exist_ok=True)"
   ]
  },
  {
   "cell_type": "code",
   "execution_count": 3,
   "metadata": {},
   "outputs": [],
   "source": [
    "wsi_paths = list(tcga_path.rglob('*DX*.svs'))"
   ]
  },
  {
   "cell_type": "code",
   "execution_count": 4,
   "metadata": {},
   "outputs": [],
   "source": [
    "wsi_paths = random.sample(wsi_paths, 256)"
   ]
  },
  {
   "cell_type": "code",
   "execution_count": 5,
   "metadata": {},
   "outputs": [],
   "source": [
    "def compute_total_size(paths):\n",
    "    return sum(p.stat().st_size for p in paths if p.exists())"
   ]
  },
  {
   "cell_type": "code",
   "execution_count": 6,
   "metadata": {},
   "outputs": [
    {
     "name": "stdout",
     "output_type": "stream",
     "text": [
      "Total size: 202.57 GB\n"
     ]
    }
   ],
   "source": [
    "total_size = compute_total_size(wsi_paths)\n",
    "print(f\"Total size: {total_size / 1e9:.2f} GB\")"
   ]
  },
  {
   "cell_type": "code",
   "execution_count": 7,
   "metadata": {},
   "outputs": [
    {
     "name": "stderr",
     "output_type": "stream",
     "text": [
      "Copying files: 100%|██████████| 256/256 [29:04<00:00,  6.82s/it]\n"
     ]
    }
   ],
   "source": [
    "for f in tqdm(wsi_paths, desc=\"Copying files\"):\n",
    "    shutil.copy(f, output_folder / f.name)"
   ]
  },
  {
   "cell_type": "code",
   "execution_count": null,
   "metadata": {},
   "outputs": [],
   "source": []
  }
 ],
 "metadata": {
  "kernelspec": {
   "display_name": "torchpl",
   "language": "python",
   "name": "python3"
  },
  "language_info": {
   "codemirror_mode": {
    "name": "ipython",
    "version": 3
   },
   "file_extension": ".py",
   "mimetype": "text/x-python",
   "name": "python",
   "nbconvert_exporter": "python",
   "pygments_lexer": "ipython3",
   "version": "3.11.0"
  }
 },
 "nbformat": 4,
 "nbformat_minor": 2
}
